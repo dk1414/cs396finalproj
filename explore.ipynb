{
 "cells": [
  {
   "cell_type": "code",
   "execution_count": 2,
   "metadata": {},
   "outputs": [],
   "source": [
    "import pandas as pd\n",
    "import re"
   ]
  },
  {
   "cell_type": "code",
   "execution_count": 7,
   "metadata": {},
   "outputs": [
    {
     "name": "stdout",
     "output_type": "stream",
     "text": [
      "dance-pop artists            885\n",
      "adult alternative artists    839\n",
      "1970s punk rock musicians    193\n",
      "acid rock artists             37\n",
      "Name: genre, dtype: int64\n",
      "adult alternative    521\n",
      "hip hop              449\n",
      "dance pop            247\n",
      "emo                  192\n",
      "punk                 174\n",
      "country              134\n",
      "dream pop            118\n",
      "hard rock             93\n",
      "acid rock             26\n",
      "Name: genre, dtype: int64\n"
     ]
    }
   ],
   "source": [
    "#fix the genres cause they got messed up\n",
    "df = pd.read_csv(\"lyricdata.csv\")\n",
    "\n",
    "print(df[\"genre\"].value_counts())\n",
    "\n",
    "files = [\"1970s punk rock musicians.txt\", \"acid rock artists.txt\", \"adult alternative artists.txt\", \"dance-pop artists.txt\", \"hard rock short.txt\",\n",
    "         \"hip hop artists.txt\", \"country rock musicians.txt\", \"emo artists.txt\", \"dream pop artists.txt\"]\n",
    "\n",
    "genres = [\"punk\", \"acid rock\", \"adult alternative\", \"dance pop\", \"hard rock\", \"hip hop\", \"country\", \"emo\", \"dream pop\"]\n",
    "\n",
    "for i,file in enumerate(files):\n",
    "\n",
    "    with open(\"complete_artists/\" + file, \"r\") as f:\n",
    "\n",
    "        for line in f:\n",
    "            \n",
    "            name = re.sub(r'\\(.*?\\)', '', line).strip()\n",
    "            name = re.sub(r'[<>:\"/\\\\|?*\\x00-\\x1F]', '', name)\n",
    "\n",
    "            m = df.loc[df[\"artist\"] == name, \"genre\"] = genres[i]\n",
    "\n",
    "print(df[\"genre\"].value_counts())"
   ]
  },
  {
   "cell_type": "code",
   "execution_count": 8,
   "metadata": {},
   "outputs": [],
   "source": [
    "df.to_csv(\"final_data.csv\", index=False)"
   ]
  }
 ],
 "metadata": {
  "kernelspec": {
   "display_name": "base",
   "language": "python",
   "name": "python3"
  },
  "language_info": {
   "codemirror_mode": {
    "name": "ipython",
    "version": 3
   },
   "file_extension": ".py",
   "mimetype": "text/x-python",
   "name": "python",
   "nbconvert_exporter": "python",
   "pygments_lexer": "ipython3",
   "version": "3.9.13"
  },
  "orig_nbformat": 4
 },
 "nbformat": 4,
 "nbformat_minor": 2
}
